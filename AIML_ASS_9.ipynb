{
  "nbformat": 4,
  "nbformat_minor": 0,
  "metadata": {
    "colab": {
      "provenance": [],
      "authorship_tag": "ABX9TyNkRAMftnPV8ZQ/QwXQP45q",
      "include_colab_link": true
    },
    "kernelspec": {
      "name": "python3",
      "display_name": "Python 3"
    },
    "language_info": {
      "name": "python"
    }
  },
  "cells": [
    {
      "cell_type": "markdown",
      "metadata": {
        "id": "view-in-github",
        "colab_type": "text"
      },
      "source": [
        "<a href=\"https://colab.research.google.com/github/2303A52500/AIML-ASSIGNMENTS/blob/main/AIML_ASS_9.ipynb\" target=\"_parent\"><img src=\"https://colab.research.google.com/assets/colab-badge.svg\" alt=\"Open In Colab\"/></a>"
      ]
    },
    {
      "source": [
        "import pandas as pd\n",
        "import numpy as np\n",
        "import matplotlib.pyplot as plt\n",
        "import seaborn as sns\n",
        "from sklearn.model_selection import train_test_split\n",
        "from sklearn.ensemble import RandomForestClassifier\n",
        "from sklearn.metrics import confusion_matrix, classification_report\n",
        "\n",
        "df = pd.read_csv('/content/loan.csv')\n",
        "print(\"Data Types:\\n\", df.dtypes)\n",
        "print(\"\\nMissing Values:\\n\", df.isnull().sum())\n",
        "df['purpose'] = df['purpose'].astype('category')\n",
        "df = pd.get_dummies(df, columns=['purpose'], drop_first=True)\n",
        "for col in ['int_rate', 'revol_util', 'term']:\n",
        "    try:\n",
        "        df[col] = pd.to_numeric(df[col].str.replace('%', ''), errors='coerce')\n",
        "        if col == 'term':\n",
        "           df[col] = pd.to_numeric(df[col].str.extract('(\\d+)')[0], errors='coerce') / 12\n",
        "    except (AttributeError, TypeError):\n",
        "        print(f\"Column '{col}' might not need conversion or has a different format.\")\n",
        "        pass\n",
        "for col in df.select_dtypes(include=['object']).columns:\n",
        "    df[col] = pd.to_numeric(df[col], errors='coerce').fillna(0)\n",
        "df.fillna(0, inplace=True)\n",
        "\n",
        "X = df.drop('loan_status', axis=1)\n",
        "y = df['loan_status']\n",
        "X_train, X_test, y_train, y_test = train_test_split(X, y, test_size=0.3, random_state=42)\n",
        "rfc = RandomForestClassifier(n_estimators=100, random_state=42)\n",
        "rfc.fit(X_train, y_train)\n",
        "\n",
        "y_pred = rfc.predict(X_test)\n",
        "print(\"\\nRandom Forest Classifier Metrics:\")\n",
        "print(\"\\nConfusion Matrix:\\n\", confusion_matrix(y_test, y_pred))\n",
        "print(\"\\nClassification Report:\\n\", classification_report(y_test, y_pred))"
      ],
      "cell_type": "code",
      "metadata": {
        "colab": {
          "base_uri": "https://localhost:8080/"
        },
        "id": "Du9b1amgVTlo",
        "outputId": "f6e8f974-0152-41e1-b55b-6aa9ee834347"
      },
      "execution_count": 33,
      "outputs": [
        {
          "output_type": "stream",
          "name": "stderr",
          "text": [
            "<ipython-input-33-981c314c96fe>:9: DtypeWarning: Columns (47) have mixed types. Specify dtype option on import or set low_memory=False.\n",
            "  df = pd.read_csv('/content/loan.csv')\n"
          ]
        },
        {
          "output_type": "stream",
          "name": "stdout",
          "text": [
            "Data Types:\n",
            " id                              int64\n",
            "member_id                       int64\n",
            "loan_amnt                       int64\n",
            "funded_amnt                     int64\n",
            "funded_amnt_inv               float64\n",
            "                               ...   \n",
            "tax_liens                     float64\n",
            "tot_hi_cred_lim               float64\n",
            "total_bal_ex_mort             float64\n",
            "total_bc_limit                float64\n",
            "total_il_high_credit_limit    float64\n",
            "Length: 111, dtype: object\n",
            "\n",
            "Missing Values:\n",
            " id                                0\n",
            "member_id                         0\n",
            "loan_amnt                         0\n",
            "funded_amnt                       0\n",
            "funded_amnt_inv                   0\n",
            "                              ...  \n",
            "tax_liens                        39\n",
            "tot_hi_cred_lim               39717\n",
            "total_bal_ex_mort             39717\n",
            "total_bc_limit                39717\n",
            "total_il_high_credit_limit    39717\n",
            "Length: 111, dtype: int64\n",
            "Column 'term' might not need conversion or has a different format.\n",
            "\n",
            "Random Forest Classifier Metrics:\n",
            "\n",
            "Confusion Matrix:\n",
            " [[11916]]\n",
            "\n",
            "Classification Report:\n",
            "               precision    recall  f1-score   support\n",
            "\n",
            "         0.0       1.00      1.00      1.00     11916\n",
            "\n",
            "    accuracy                           1.00     11916\n",
            "   macro avg       1.00      1.00      1.00     11916\n",
            "weighted avg       1.00      1.00      1.00     11916\n",
            "\n"
          ]
        },
        {
          "output_type": "stream",
          "name": "stderr",
          "text": [
            "/usr/local/lib/python3.10/dist-packages/sklearn/metrics/_classification.py:409: UserWarning: A single label was found in 'y_true' and 'y_pred'. For the confusion matrix to have the correct shape, use the 'labels' parameter to pass all known labels.\n",
            "  warnings.warn(\n"
          ]
        }
      ]
    }
  ]
}